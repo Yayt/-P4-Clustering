{
 "cells": [
  {
   "cell_type": "markdown",
   "metadata": {},
   "source": [
    "Load textures and cochleogram data \n",
    "---------------------------------------"
   ]
  },
  {
   "cell_type": "code",
   "execution_count": 1,
   "metadata": {
    "collapsed": false
   },
   "outputs": [
    {
     "data": {
      "text/plain": [
       "['Tf', 'E', 'Pf', 'Ts', 'Ps']"
      ]
     },
     "execution_count": 1,
     "metadata": {},
     "output_type": "execute_result"
    }
   ],
   "source": [
    "import numpy as np\n",
    "import os\n",
    "#T tone\n",
    "#P Pulse\n",
    "#N noise\n",
    "#E total energy\n",
    "npzfilename=os.path.join('airplan','rawFeatures.npz')\n",
    "dataraw= np.load(npzfilename) \n",
    "dataraw=dataraw['arr_0'].item()\n",
    "dataraw.keys()"
   ]
  },
  {
   "cell_type": "markdown",
   "metadata": {},
   "source": [
    "Plotting\n",
    "---------\n",
    "\n",
    "Activating plotting magic\n"
   ]
  },
  {
   "cell_type": "code",
   "execution_count": 2,
   "metadata": {
    "collapsed": false
   },
   "outputs": [
    {
     "name": "stdout",
     "output_type": "stream",
     "text": [
      "Using matplotlib backend: Qt4Agg\n",
      "Populating the interactive namespace from numpy and matplotlib\n"
     ]
    }
   ],
   "source": [
    "%pylab"
   ]
  },
  {
   "cell_type": "markdown",
   "metadata": {},
   "source": [
    "Plot one of texture features"
   ]
  },
  {
   "cell_type": "code",
   "execution_count": 3,
   "metadata": {
    "collapsed": false
   },
   "outputs": [],
   "source": [
    "f=plt.figure(figsize=(16,6,))\n",
    "ax = f.add_subplot(1,1,1)\n",
    "ax.imshow(dataraw['Tf'], interpolation='nearest',aspect='auto')\n",
    "plt.show()\n"
   ]
  },
  {
   "cell_type": "markdown",
   "metadata": {
    "collapsed": true
   },
   "source": [
    "Load the PTN data\n",
    "-------------------\n"
   ]
  },
  {
   "cell_type": "code",
   "execution_count": 4,
   "metadata": {
    "collapsed": false
   },
   "outputs": [],
   "source": [
    "npzfilename=os.path.join('AnalysisOfGygiDataset.npz')\n",
    "PTNdata= np.load(npzfilename) \n",
    "PTNdata=PTNdata['arr_0'].item()\n",
    "#PTNdata.keys()"
   ]
  },
  {
   "cell_type": "code",
   "execution_count": 10,
   "metadata": {
    "collapsed": false
   },
   "outputs": [],
   "source": [
    "#3d Visualization of the unclusted data!\n",
    "from mpl_toolkits.mplot3d import Axes3D\n",
    "\n",
    "#New 3d figure\n",
    "fig = plt.figure()\n",
    "ax = fig.add_subplot(111, projection='3d')\n",
    "\n",
    "#logsum relevant\n",
    "#Surface => E = 1\n",
    "\n",
    "#Get data for axes\n",
    "xs=PTNdata['P_logsumE_off_FS']\n",
    "ys=PTNdata['T_logsumE_off_FS']\n",
    "zs=PTNdata['N_logsumE_off_FS']\n",
    "\n",
    "#Set their corresponding colors and markers\n",
    "for typecolor, typemarker  in [('r','o'),('g','^'),('b','s')]:\n",
    "    typerange=PTNdata['typecolors'][typecolor]\n",
    "    ax.scatter(xs[typerange],ys[typerange],zs[typerange], c=typecolor, marker=typemarker,s=48)  \n",
    "\n",
    "#Set axis labels\n",
    "ax.set_xlabel('P ')\n",
    "ax.set_ylabel('T ')\n",
    "ax.set_zlabel('N ')\n",
    "\n",
    "#Set the initial view\n",
    "ax.view_init(60, 30)\n",
    "plt.show()\n"
   ]
  },
  {
   "cell_type": "code",
   "execution_count": 36,
   "metadata": {
    "collapsed": false
   },
   "outputs": [],
   "source": [
    "#Histogram of the P values\n",
    "P = PTNdata['P_logsumE_off_FS']\n",
    "\n",
    "# the histogram of the data\n",
    "n = plt.hist(P, 50,  normed=1, facecolor='g', alpha=0.75)\n",
    "\n",
    "plt.xlabel('Pulse')\n",
    "plt.ylabel('Occurance')\n",
    "plt.title('Occurrance of pulse values')\n",
    "plt.grid(True)\n",
    "\n",
    "plt.show()"
   ]
  },
  {
   "cell_type": "code",
   "execution_count": null,
   "metadata": {
    "collapsed": true
   },
   "outputs": [],
   "source": [
    "#Histogram of the T values\n",
    "T = PTNdata['T_logsumE_off_FS']\n",
    "\n",
    "# the histogram of the data\n",
    "n = plt.hist(T, 50,  normed=1, facecolor='b', alpha=0.75)\n",
    "\n",
    "plt.xlabel('Tone')\n",
    "plt.ylabel('Occurance')\n",
    "plt.title('Occurrance of tone values')\n",
    "plt.grid(True)\n",
    "\n",
    "plt.show()"
   ]
  },
  {
   "cell_type": "code",
   "execution_count": 39,
   "metadata": {
    "collapsed": true
   },
   "outputs": [],
   "source": [
    "#Histogram of the N values\n",
    "N = PTNdata['N_logsumE_off_FS']\n",
    "\n",
    "# the histogram of the data\n",
    "n = plt.hist(N, 50,  normed=1, facecolor='r', alpha=0.75)\n",
    "\n",
    "plt.xlabel('Noise')\n",
    "plt.ylabel('Occurance')\n",
    "plt.title('Occurrance of noise values')\n",
    "plt.grid(True)\n",
    "\n",
    "plt.show()"
   ]
  },
  {
   "cell_type": "code",
   "execution_count": null,
   "metadata": {
    "collapsed": true
   },
   "outputs": [],
   "source": [
    "#To remove later\n",
    "f=plt.figure(figsize=(16,6,))\n",
    "ax = f.add_subplot(1,1,1)\n",
    "xs=PTNdata['P_logsumE_off_FS']\n",
    "ys=PTNdata['T_logsumE_off_FS']\n",
    "\n",
    "#ax.plot(xs, ys,'.' )\n",
    "\n",
    "for typecolor, typemarker  in [('r','o'),('g','^'),('b','s')]:\n",
    "    typerange=PTNdata['typecolors'][typecolor]\n",
    "    ax.scatter( xs[typerange],ys[typerange], c=typecolor, marker=typemarker,s=48)\n",
    "\n",
    "\n",
    "for label, x, y in zip(PTNdata['labels'], xs,ys):\n",
    "    ax.text(x, y, label[:3], None)    \n",
    "\n",
    "ax.set_xlabel('P ')\n",
    "ax.set_ylabel('N ')\n",
    "plt.show()"
   ]
  },
  {
   "cell_type": "markdown",
   "metadata": {
    "collapsed": true
   },
   "source": [
    "Kmeans clustering below"
   ]
  },
  {
   "cell_type": "code",
   "execution_count": 64,
   "metadata": {
    "collapsed": false
   },
   "outputs": [],
   "source": [
    "#Euclidean Distance Calculator\n",
    "from scipy.spatial import distance\n",
    "from scipy.cluster.vq import kmeans,vq\n",
    "\n",
    "#a = (1,2,3)\n",
    "#b = (4,5,6)\n",
    "#dst = distance.euclidean(a,b)\n",
    "\n",
    "data = np.vstack((xs,zs,ys))\n",
    "data = np.array([xs,zs,ys]).T\n",
    "\n",
    "# computing K-Means with K = 2 (2 clusters)\n",
    "centroids,_ = kmeans(data,2)\n",
    "# assign each sample to a cluster\n",
    "idx,_ = vq(data,centroids)\n",
    "\n",
    "# some plotting using numpy's logical indexing\n",
    "plot(data[idx==0,0],data[idx==0,1],'ob',\n",
    "     data[idx==1,0],data[idx==1,1],'or')\n",
    "plot(centroids[:,0],centroids[:,1],'sg',markersize=8)\n",
    "show()\n"
   ]
  },
  {
   "cell_type": "code",
   "execution_count": null,
   "metadata": {
    "collapsed": true
   },
   "outputs": [],
   "source": []
  }
 ],
 "metadata": {
  "kernelspec": {
   "display_name": "Python [Root]",
   "language": "python",
   "name": "Python [Root]"
  },
  "language_info": {
   "codemirror_mode": {
    "name": "ipython",
    "version": 2
   },
   "file_extension": ".py",
   "mimetype": "text/x-python",
   "name": "python",
   "nbconvert_exporter": "python",
   "pygments_lexer": "ipython2",
   "version": "2.7.12"
  }
 },
 "nbformat": 4,
 "nbformat_minor": 0
}
