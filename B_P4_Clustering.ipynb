{
 "cells": [
  {
   "cell_type": "markdown",
   "metadata": {},
   "source": [
    "Load textures and cochleogram data \n",
    "---------------------------------------"
   ]
  },
  {
   "cell_type": "code",
   "execution_count": 1,
   "metadata": {
    "collapsed": false
   },
   "outputs": [
    {
     "data": {
      "text/plain": [
       "['Tf', 'E', 'Pf', 'Ts', 'Ps']"
      ]
     },
     "execution_count": 1,
     "metadata": {},
     "output_type": "execute_result"
    }
   ],
   "source": [
    "import numpy as np\n",
    "import os\n",
    "#T tone\n",
    "#P Pulse\n",
    "#N noise\n",
    "#E total energy\n",
    "npzfilename=os.path.join('airplan','rawFeatures.npz')\n",
    "dataraw= np.load(npzfilename) \n",
    "dataraw=dataraw['arr_0'].item()\n",
    "dataraw.keys()"
   ]
  },
  {
   "cell_type": "markdown",
   "metadata": {},
   "source": [
    "Plotting\n",
    "---------\n",
    "\n",
    "Activating plotting magic\n"
   ]
  },
  {
   "cell_type": "code",
   "execution_count": 2,
   "metadata": {
    "collapsed": false
   },
   "outputs": [
    {
     "name": "stdout",
     "output_type": "stream",
     "text": [
      "Using matplotlib backend: Qt4Agg\n",
      "Populating the interactive namespace from numpy and matplotlib\n"
     ]
    }
   ],
   "source": [
    "%pylab"
   ]
  },
  {
   "cell_type": "markdown",
   "metadata": {},
   "source": [
    "Plot one of texture features"
   ]
  },
  {
   "cell_type": "code",
   "execution_count": 3,
   "metadata": {
    "collapsed": false
   },
   "outputs": [],
   "source": [
    "f=plt.figure(figsize=(16,6,))\n",
    "ax = f.add_subplot(1,1,1)\n",
    "ax.imshow(dataraw['Tf'], interpolation='nearest',aspect='auto')\n",
    "plt.show()\n"
   ]
  },
  {
   "cell_type": "markdown",
   "metadata": {
    "collapsed": true
   },
   "source": [
    "Load the PTN data\n",
    "-------------------\n"
   ]
  },
  {
   "cell_type": "code",
   "execution_count": 4,
   "metadata": {
    "collapsed": false
   },
   "outputs": [],
   "source": [
    "npzfilename=os.path.join('AnalysisOfGygiDataset.npz')\n",
    "PTNdata= np.load(npzfilename) \n",
    "PTNdata=PTNdata['arr_0'].item()\n",
    "#PTNdata.keys()"
   ]
  },
  {
   "cell_type": "code",
   "execution_count": 9,
   "metadata": {
    "collapsed": false
   },
   "outputs": [],
   "source": [
    "from mpl_toolkits.mplot3d import Axes3D\n",
    "\n",
    "fig = plt.figure()\n",
    "ax = fig.add_subplot(111, projection='3d')\n",
    "\n",
    "#logsum relevant\n",
    "#Surface => E = 1\n",
    "xs=PTNdata['P_logsumE_off_FS']\n",
    "ys=PTNdata['T_logsumE_off_FS']\n",
    "zs=PTNdata['N_logsumE_off_FS']\n",
    "for typecolor, typemarker  in [('r','o'),('g','^'),('b','s')]:\n",
    "    typerange=PTNdata['typecolors'][typecolor]\n",
    "    ax.scatter(xs[typerange],ys[typerange],zs[typerange], c=typecolor, marker=typemarker,s=48)  \n",
    "    \n",
    "ax.set_xlabel('P ')\n",
    "ax.set_ylabel('T ')\n",
    "ax.set_zlabel('N ')\n",
    "\n",
    "ax.view_init(60, 30)\n",
    "plt.show()\n"
   ]
  },
  {
   "cell_type": "code",
   "execution_count": null,
   "metadata": {
    "collapsed": false
   },
   "outputs": [],
   "source": [
    "f=plt.figure(figsize=(16,6,))\n",
    "ax = f.add_subplot(1,1,1)\n",
    "xs=PTNdata['P_logsumE_off_FS']\n",
    "ys=PTNdata['T_logsumE_off_FS']\n",
    "\n",
    "#ax.plot(xs, ys,'.' )\n",
    "\n",
    "for typecolor, typemarker  in [('r','o'),('g','^'),('b','s')]:\n",
    "    typerange=PTNdata['typecolors'][typecolor]\n",
    "    ax.scatter( xs[typerange],ys[typerange], c=typecolor, marker=typemarker,s=48)\n",
    "\n",
    "\n",
    "for label, x, y in zip(PTNdata['labels'], xs,ys):\n",
    "    ax.text(x, y, label[:3], None)    \n",
    "\n",
    "ax.set_xlabel('P ')\n",
    "ax.set_ylabel('N ')\n",
    "plt.show()"
   ]
  },
  {
   "cell_type": "code",
   "execution_count": null,
   "metadata": {
    "collapsed": true
   },
   "outputs": [],
   "source": []
  }
 ],
 "metadata": {
  "kernelspec": {
   "display_name": "Python [Root]",
   "language": "python",
   "name": "Python [Root]"
  },
  "language_info": {
   "codemirror_mode": {
    "name": "ipython",
    "version": 2
   },
   "file_extension": ".py",
   "mimetype": "text/x-python",
   "name": "python",
   "nbconvert_exporter": "python",
   "pygments_lexer": "ipython2",
   "version": "2.7.12"
  }
 },
 "nbformat": 4,
 "nbformat_minor": 0
}
